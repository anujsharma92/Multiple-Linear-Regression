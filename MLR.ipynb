{
  "nbformat": 4,
  "nbformat_minor": 0,
  "metadata": {
    "colab": {
      "name": "MLR.ipynb",
      "provenance": [],
      "collapsed_sections": []
    },
    "kernelspec": {
      "name": "python3",
      "display_name": "Python 3"
    }
  },
  "cells": [
    {
      "cell_type": "code",
      "metadata": {
        "id": "6NHitAf5PyMU"
      },
      "source": [
        "import numpy as np\n",
        "import pandas as pd\n",
        "from scipy import stats\n",
        "import pylab\n",
        "import seaborn as sns\n",
        "import statsmodels.formula.api as smf\n",
        "import statsmodels.api as sm\n",
        "\n"
      ],
      "execution_count": null,
      "outputs": []
    },
    {
      "cell_type": "code",
      "metadata": {
        "id": "r5jy6LUbP3bj"
      },
      "source": [
        "startup=pd.read_csv(\"/content/50_Startups.csv\")\n"
      ],
      "execution_count": null,
      "outputs": []
    },
    {
      "cell_type": "code",
      "metadata": {
        "id": "vibBWypXP4lb"
      },
      "source": [
        "startup.head()"
      ],
      "execution_count": null,
      "outputs": []
    },
    {
      "cell_type": "code",
      "metadata": {
        "id": "yisXJXMIQLEq"
      },
      "source": [
        "#converting categorical i/p to numerical\n",
        "dummy_states=pd.get_dummies(startup['State'])\n",
        "# renaming dummy\n",
        "dummy_states.columns=[\"State\"+str(i) for i in range(0, 3)]\n",
        "dummy_states.head()\n"
      ],
      "execution_count": null,
      "outputs": []
    },
    {
      "cell_type": "code",
      "metadata": {
        "id": "coKTY99vWrMM"
      },
      "source": [
        "#droping State from startup and cocatinating  dummy as well as\n",
        "startup=startup.drop(['State'], axis=1)\n",
        "frames=[dummy_states,startup]\n",
        "final_startup=pd.concat(frames,axis=1)\n",
        "final_startup.head()"
      ],
      "execution_count": null,
      "outputs": []
    },
    {
      "cell_type": "code",
      "metadata": {
        "id": "cKQ5LkzUYKvJ"
      },
      "source": [
        "#checking correlation for feature selection\n",
        "corr1=pd.DataFrame(final_startup.iloc[:,:-1].corr())\n",
        "corr1"
      ],
      "execution_count": null,
      "outputs": []
    },
    {
      "cell_type": "code",
      "metadata": {
        "id": "wCkwhia1X3bE"
      },
      "source": [
        "#feature selection checking feature which exceeds threshold value\n",
        "threshold=0.75\n",
        "def correlation(dataset, threshold):\n",
        "    col_corr = set()  # Set of all the names of correlated columns\n",
        "    corr_matrix = dataset.corr()\n",
        "    for i in range(len(corr_matrix.columns)):\n",
        "        for j in range(i):\n",
        "            if abs(corr_matrix.iloc[i, j]) > threshold: # we are interested in absolute coeff value\n",
        "                colname = corr_matrix.columns[i]  # getting the name of column\n",
        "                col_corr.add(colname)\n",
        "    return col_corr\n",
        "\n",
        "correlation(final_startup.iloc[:,:-1],threshold)\n",
        "#none of feature exceeding our threshold value\n"
      ],
      "execution_count": null,
      "outputs": []
    },
    {
      "cell_type": "code",
      "metadata": {
        "id": "e5EiDCgNudeR"
      },
      "source": [
        "#renaming all features\n",
        "final_startup.columns='state0','state1','state2','rd','admin','market','profit'\n",
        "final_startup.head()"
      ],
      "execution_count": null,
      "outputs": []
    },
    {
      "cell_type": "code",
      "metadata": {
        "id": "R07qX_YXvr5P"
      },
      "source": [
        "#model 1\n",
        "\n",
        "model1=smf.ols('profit~state0+state1+state2+rd+admin+market',data=final_startup).fit()\n",
        "model1.summary()\n",
        "\n",
        "#here R squared value is >0.80  strong model\n",
        "#but  adminand market  p value is >0.05 but we cannot remove those fetures as its playing important role "
      ],
      "execution_count": null,
      "outputs": []
    },
    {
      "cell_type": "code",
      "metadata": {
        "id": "qSmEyRE61ZLQ"
      },
      "source": [
        "#check for influencial value\n",
        "sm.graphics.influence_plot(model1)\n",
        "#here 49 is looking most influenceable value "
      ],
      "execution_count": null,
      "outputs": []
    },
    {
      "cell_type": "code",
      "metadata": {
        "id": "DXPQSEr02JFw"
      },
      "source": [
        "#dropiing most influencer row\n",
        "final_startup=final_startup.drop(final_startup.index[49])"
      ],
      "execution_count": null,
      "outputs": []
    },
    {
      "cell_type": "code",
      "metadata": {
        "id": "oW9OrRf_2ri_"
      },
      "source": [
        "#model 2\n",
        "#transformation feature\n",
        "\n",
        "model2=smf.ols('profit~state0+state1+state2+rd+np.log(admin)+market',data=final_startup).fit()\n",
        "model2.summary()\n",
        "\n",
        "#here R squared value is >0.80  strong model\n",
        "#but  admin and market  p value is >0.05 but we cannot remove those fetures as its playing important role "
      ],
      "execution_count": null,
      "outputs": []
    },
    {
      "cell_type": "code",
      "metadata": {
        "id": "kUKaxxeK24Qw"
      },
      "source": [
        "#check for influencial value\n",
        "sm.graphics.influence_plot(model2)\n",
        "#here 48 is looking most influenceable value "
      ],
      "execution_count": null,
      "outputs": []
    },
    {
      "cell_type": "code",
      "metadata": {
        "id": "HipTWk4d2_Sz"
      },
      "source": [
        "#dropiing most influencer row\n",
        "final_startup=final_startup.drop(final_startup.index[48])"
      ],
      "execution_count": null,
      "outputs": []
    },
    {
      "cell_type": "code",
      "metadata": {
        "id": "b7r4U3JP3E1N"
      },
      "source": [
        "#checking for VIF for checking any feature is invovling in multicollinearaity or not\n",
        "\n",
        "rsq_st0 = smf.ols('state0~state1+state2+rd+admin+market',data=final_startup).fit().rsquared  \n",
        "vif_st0 = 1/(1 - rsq_st0) \n",
        "\n",
        "rsq_st1 = smf.ols('state1~state0+state2+rd+admin+market',data=final_startup).fit().rsquared  \n",
        "vif_st1 = 1/(1 - rsq_st1)\n",
        "\n",
        "rsq_st2 = smf.ols('state2~state0+state1+rd+admin+market',data=final_startup).fit().rsquared  \n",
        "vif_st2 = 1/(1 - rsq_st2) \n",
        "\n",
        "rsq_rd = smf.ols('rd~state0+state1+state2+admin+market',data=final_startup).fit().rsquared  \n",
        "vif_rd = 1/(1 - rsq_rd) \n",
        "\n",
        "rsq_admin = smf.ols('admin~state0+state1+state2+rd+market',data=final_startup).fit().rsquared  \n",
        "vif_admin = 1/(1 - rsq_admin)\n",
        "\n",
        "rsq_market = smf.ols('market~state0+state1+state2+rd+admin',data=final_startup).fit().rsquared  \n",
        "vif_market = 1/(1 - rsq_market) \n",
        "\n",
        "\n",
        "d1 = {'Variables':['State0','State1','State02','rd', 'admin', 'market'], 'VIF':[vif_st0,vif_st1,vif_st2,vif_rd, vif_admin, vif_market]}\n",
        "Vif_frame = pd.DataFrame(d1)  \n",
        "Vif_frame\n",
        "# we are getting vif inf for all state column so removing all state feature will help us to  build good model"
      ],
      "execution_count": null,
      "outputs": []
    },
    {
      "cell_type": "code",
      "metadata": {
        "id": "5wSARaUV7yXU"
      },
      "source": [
        "#removing State columns as vif is inf\n",
        "final_startup=final_startup.drop(['state0','state1','state2'],axis=1)\n",
        "\n",
        "#splitting data in train and test \n",
        "\n",
        "from sklearn.model_selection import train_test_split\n",
        "\n",
        "train,test= train_test_split(final_startup, test_size = 0.10,random_state=10)\n",
        "\n",
        "new_model=smf.ols('profit~rd+admin+market',data=train).fit()\n",
        "new_model.summary()\n",
        "\n",
        "test_pred = new_model.predict(test)\n",
        "test_pred\n",
        "\n",
        "test_resid = test_pred - test.profit\n",
        "# RMSE value for test data \n",
        "test_rmse = np.sqrt(np.mean(test_resid * test_resid))\n",
        "test_rmse\n",
        "\n",
        "#here test rmse i 5659.455555555s    which is very large  , hence we need more data for geeting better results"
      ],
      "execution_count": null,
      "outputs": []
    }
  ]
}